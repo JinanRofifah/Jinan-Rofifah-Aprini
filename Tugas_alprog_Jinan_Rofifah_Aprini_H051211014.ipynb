{
  "nbformat": 4,
  "nbformat_minor": 0,
  "metadata": {
    "colab": {
      "name": "Tugas alprog_Jinan Rofifah Aprini_H051211014",
      "provenance": [],
      "collapsed_sections": [],
      "authorship_tag": "ABX9TyODuJjVcyJSAORBhvkB0Q9x",
      "include_colab_link": true
    },
    "kernelspec": {
      "name": "python3",
      "display_name": "Python 3"
    },
    "language_info": {
      "name": "python"
    }
  },
  "cells": [
    {
      "cell_type": "markdown",
      "metadata": {
        "id": "view-in-github",
        "colab_type": "text"
      },
      "source": [
        "<a href=\"https://colab.research.google.com/github/JinanRofifah/Jinan-Rofifah-Aprini/blob/main/Tugas_alprog_Jinan_Rofifah_Aprini_H051211014.ipynb\" target=\"_parent\"><img src=\"https://colab.research.google.com/assets/colab-badge.svg\" alt=\"Open In Colab\"/></a>"
      ]
    },
    {
      "cell_type": "markdown",
      "source": [
        "**Buatlah program untuk menghitung penjumlahan dua buah matriks**"
      ],
      "metadata": {
        "id": "AS_1Y0Y4g4rr"
      }
    },
    {
      "cell_type": "code",
      "source": [
        "mat1=[\n",
        "      [2,4],\n",
        "      [3,9],\n",
        "]\n",
        "mat2=[\n",
        "      [1,3],\n",
        "      [5,8],\n",
        "]\n",
        "for x in range (0,len(mat1)):\n",
        "  for y in range (0,len(mat1[0])):\n",
        "    print (mat1[x][y]+mat2[x][y], end=' '),\n",
        "  print"
      ],
      "metadata": {
        "colab": {
          "base_uri": "https://localhost:8080/"
        },
        "id": "mwBMiT8UhDBd",
        "outputId": "639d86a4-a962-4e61-9412-eefcacb3ed1f"
      },
      "execution_count": null,
      "outputs": [
        {
          "output_type": "stream",
          "name": "stdout",
          "text": [
            "3 7 8 17 "
          ]
        }
      ]
    },
    {
      "cell_type": "markdown",
      "source": [
        "**LATIHAN**\n",
        "1. **Buatlah program untuk menghitung total pembelian N buah barang dengan harga dan jumlah tertentu**"
      ],
      "metadata": {
        "id": "jzvUcREKiXib"
      }
    },
    {
      "cell_type": "code",
      "source": [
        "print(\"---Toko Joong Archen---\")\n",
        "def total(harga,jumlah):\n",
        "  \"\"\"fungsi untuk menghitung total bayar\"\"\"\n",
        "  return harga*jumlah\n",
        "#input data\n",
        "harga=int(input(\"masukkan harga barang: \"))\n",
        "jumlah=int(input(\"masukkan jumlah barang yang dibeli: \"))\n",
        "Total=total(harga,jumlah)\n",
        "print(\"Total Harga = \", \"Rp.\",Total)"
      ],
      "metadata": {
        "colab": {
          "base_uri": "https://localhost:8080/"
        },
        "id": "KJuCD4u5iyVE",
        "outputId": "d72dbe5d-22fa-4ac8-e273-36c5f22fc57e"
      },
      "execution_count": null,
      "outputs": [
        {
          "output_type": "stream",
          "name": "stdout",
          "text": [
            "---Toko Joong Archen---\n",
            "masukkan harga barang: 50000\n",
            "masukkan jumlah barang yang dibeli: 5\n",
            "Total Harga =  Rp. 250000\n"
          ]
        }
      ]
    },
    {
      "cell_type": "markdown",
      "source": [
        "2. **Buatlah program untuk menghitung banyaknya bilangan genap ataupun bilangan ganjil dari N buah bilangan yang diinput secara acak**"
      ],
      "metadata": {
        "id": "Q7vdW4cjm78I"
      }
    },
    {
      "cell_type": "code",
      "source": [
        "bilangan=(2,7,5,4,9,1,10,12,20)\n",
        "bil_ganjil=0\n",
        "bil_genap=0\n",
        "for x in bilangan:\n",
        "  if not x%2:\n",
        "    bil_genap+=1\n",
        "  else:\n",
        "    bil_ganjil+=1\n",
        "print(\"Banyak bilangan genap:\",bil_genap)\n",
        "print(\"Banyak bilangan ganjil:\",bil_ganjil)"
      ],
      "metadata": {
        "colab": {
          "base_uri": "https://localhost:8080/"
        },
        "id": "RGQUu4VTnIuH",
        "outputId": "24516757-1c87-4260-90b3-42e40eab82c4"
      },
      "execution_count": null,
      "outputs": [
        {
          "output_type": "stream",
          "name": "stdout",
          "text": [
            "Banyak bilangan genap: 5\n",
            "Banyak bilangan ganjil: 4\n"
          ]
        }
      ]
    },
    {
      "cell_type": "markdown",
      "source": [
        "3. **Buatlah program untuk menampilkan bentuk bilangan kelipatan 3 diantara bilangan tertentu**"
      ],
      "metadata": {
        "id": "59dpWBg4wvwD"
      }
    },
    {
      "cell_type": "code",
      "source": [
        "evens=[]\n",
        "for n in range(1,100):\n",
        "  if n%3==0:\n",
        "    evens.append(n)\n",
        "print (evens)"
      ],
      "metadata": {
        "colab": {
          "base_uri": "https://localhost:8080/"
        },
        "id": "PhJ7TDL1xBNn",
        "outputId": "8d5edaa0-5699-4c6c-aa86-145b825800b8"
      },
      "execution_count": null,
      "outputs": [
        {
          "output_type": "stream",
          "name": "stdout",
          "text": [
            "[3, 6, 9, 12, 15, 18, 21, 24, 27, 30, 33, 36, 39, 42, 45, 48, 51, 54, 57, 60, 63, 66, 69, 72, 75, 78, 81, 84, 87, 90, 93, 96, 99]\n"
          ]
        }
      ]
    },
    {
      "cell_type": "markdown",
      "source": [
        "4. **Buatlah program untuk menampilkan bilangan sebagai berikut ini:**\n",
        "Bilangan:<input suatu bilangan(misal:5)> \n",
        "1\n",
        "12\n",
        "123\n",
        "1234\n",
        "12345 "
      ],
      "metadata": {
        "id": "jjhJui1A0Yvn"
      }
    },
    {
      "cell_type": "code",
      "source": [
        "rows = 11\n",
        "for num in range(rows):\n",
        "    for i in range(num):\n",
        "        print ((i+1), end=\" \")\n",
        "    print(\"\")"
      ],
      "metadata": {
        "colab": {
          "base_uri": "https://localhost:8080/"
        },
        "id": "Nep07UVt0q27",
        "outputId": "5a930452-688e-4a46-ce18-651a2aea50ac"
      },
      "execution_count": null,
      "outputs": [
        {
          "output_type": "stream",
          "name": "stdout",
          "text": [
            "\n",
            "1 \n",
            "1 2 \n",
            "1 2 3 \n",
            "1 2 3 4 \n",
            "1 2 3 4 5 \n",
            "1 2 3 4 5 6 \n",
            "1 2 3 4 5 6 7 \n",
            "1 2 3 4 5 6 7 8 \n",
            "1 2 3 4 5 6 7 8 9 \n",
            "1 2 3 4 5 6 7 8 9 10 \n"
          ]
        }
      ]
    },
    {
      "cell_type": "markdown",
      "source": [
        "5. **Buatlah program untuk menghitung dan menampilkan bentuk berikut ini:**\n",
        "**No.   NamaMhs  N.Tugas  N.Kuis  N.UTS  N.UAS**\n",
        "**1**\n",
        "**2**\n",
        "**..**\n",
        "**N **"
      ],
      "metadata": {
        "id": "X31yLM0QjbW-"
      }
    },
    {
      "cell_type": "markdown",
      "source": [
        ""
      ],
      "metadata": {
        "id": "NNtgaHpGpsc2"
      }
    },
    {
      "cell_type": "code",
      "source": [
        "No=[]\n",
        "NamaMhs=[]\n",
        "Tugas=[]\n",
        "Kuis=[]\n",
        "UTS=[]\n",
        "UAS=[]\n",
        "NilaiAkhir=[]\n",
        "\n",
        "ulang = (int(input(\"Jumlah Mahasiswa : \")))\n",
        "for i in range(ulang):\n",
        "  print()\n",
        "  print(\"Data Ke - \",str(i+1))\n",
        "  NamaMhs.append(input(\"Masukkan nama Mahasiswa : \"))\n",
        "  Tugas.append(int(input(\"Nilai tugas \\t\\t: \")))\n",
        "  Kuis.append(int(input(\"Nilai kuis \\t\\t: \")))\n",
        "  UTS.append(int(input(\"Nilai UTS \\t\\t: \")))\n",
        "  UAS.append(int(input(\"Nilai UAS \\t\\t: \")))\n",
        "  print()\n",
        "\n",
        "for i in range(ulang):\n",
        "    No.append(str(i+1))\n",
        "    NilaiAkhir.append((Tugas[i]+Kuis[i]+UTS[i]+UAS[i])/4)\n",
        "\n",
        "print()\n",
        "print(\"=\"*100)\n",
        "print(\"\\t No \\t NamaMhs \\t9\\t Tugas \\t Kuis \\t UTS \\t UAS \\t NilaiAkhir\")\n",
        "print(\"=\"*1009)\n",
        "for i in range(ulang):\n",
        "  print (\"\\t\",No[i],\"\\t\",NamaMhs[i],\"\\t\\t\",Tugas[i],\"\\t\",Kuis[i],\"\\t\",UTS[i],\"\\t\",UAS[i],\"\\t\",NilaiAkhir[i])\n",
        "  print(\"_\"*100)"
      ],
      "metadata": {
        "colab": {
          "base_uri": "https://localhost:8080/"
        },
        "id": "_hTCsCGRfjT7",
        "outputId": "8b16a7c1-505e-4595-e90c-7afdc0d82739"
      },
      "execution_count": 18,
      "outputs": [
        {
          "output_type": "stream",
          "name": "stdout",
          "text": [
            "Jumlah Mahasiswa : 2\n",
            "\n",
            "Data Ke -  1\n",
            "Masukkan nama Mahasiswa : Joong Archen\n",
            "Nilai tugas \t\t: 83\n",
            "Nilai kuis \t\t: 87\n",
            "Nilai UTS \t\t: 92\n",
            "Nilai UAS \t\t: 98\n",
            "\n",
            "\n",
            "Data Ke -  2\n",
            "Masukkan nama Mahasiswa : Dew Jirawat\n",
            "Nilai tugas \t\t: 79\n",
            "Nilai kuis \t\t: 82\n",
            "Nilai UTS \t\t: 91\n",
            "Nilai UAS \t\t: 95\n",
            "\n",
            "\n",
            "====================================================================================================\n",
            "\t No \t NamaMhs \t9\t Tugas \t Kuis \t UTS \t UAS \t NilaiAkhir\n",
            "====================================================================================================\n",
            "\t 1 \t Joong Archen \t\t 83 \t 87 \t 92 \t 98 \t 90.0\n",
            "____________________________________________________________________________________________________\n",
            "\t 2 \t Dew Jirawat \t\t 79 \t 82 \t 91 \t 95 \t 86.75\n",
            "____________________________________________________________________________________________________\n"
          ]
        }
      ]
    }
  ]
}